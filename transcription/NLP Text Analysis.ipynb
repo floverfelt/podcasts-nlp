{
 "cells": [
  {
   "cell_type": "code",
   "execution_count": 6,
   "metadata": {},
   "outputs": [],
   "source": [
    "import os\n",
    "  \n",
    "BEN_SHAPIRO_CORPUS_FILE = 'ben_shapiro_txt/corpus.txt'\n",
    "PSA_CORPUS_FILE = 'psa_txt/corpus.txt'\n",
    "\n",
    "ben_corpus = open(BEN_SHAPIRO_CORPUS_FILE, 'r').read()\n",
    "psa_corpus = open(PSA_CORPUS_FILE, 'r').read()"
   ]
  },
  {
   "cell_type": "code",
   "execution_count": 63,
   "metadata": {},
   "outputs": [
    {
     "name": "stderr",
     "output_type": "stream",
     "text": [
      "[nltk_data] Downloading package stopwords to\n",
      "[nltk_data]     /Users/foverfel/nltk_data...\n",
      "[nltk_data]   Package stopwords is already up-to-date!\n",
      "[nltk_data] Downloading package punkt to /Users/foverfel/nltk_data...\n",
      "[nltk_data]   Package punkt is already up-to-date!\n"
     ]
    }
   ],
   "source": [
    "import nltk\n",
    "from nltk import word_tokenize\n",
    "from nltk.corpus import stopwords\n",
    "from nltk import Text\n",
    "import string\n",
    "\n",
    "nltk.download('stopwords')\n",
    "nltk.download('punkt')\n",
    "stop_words = stopwords.words('english')\n",
    "replace_punct = str.maketrans('', '', string.punctuation)"
   ]
  },
  {
   "cell_type": "code",
   "execution_count": 64,
   "metadata": {},
   "outputs": [],
   "source": [
    "ben_corpus_preprocessed = []\n",
    "psa_corpus_preprocessed = []\n",
    "\n",
    "ben_corpus_preprocessed = [word for word in word_tokenize(ben_corpus.lower().translate(replace_punct)) \n",
    "                           if word not in stop_words]\n",
    "psa_corpus_preprocessed = [word for word in word_tokenize(psa_corpus.lower().translate(replace_punct)) \n",
    "                           if word not in stop_words]\n",
    "\n",
    "ben_text = Text(ben_corpus_preprocessed)\n",
    "psa_text = Text(psa_corpus_preprocessed)"
   ]
  },
  {
   "cell_type": "code",
   "execution_count": 65,
   "metadata": {},
   "outputs": [],
   "source": [
    "from nltk import FreqDist\n",
    "\n",
    "ben_fdist = FreqDist(ben_text)\n",
    "psa_fdist = FreqDist(psa_text)"
   ]
  },
  {
   "cell_type": "code",
   "execution_count": 102,
   "metadata": {},
   "outputs": [
    {
     "data": {
      "text/plain": [
       "[('people', 8314),\n",
       " ('one', 5912),\n",
       " ('get', 4286),\n",
       " ('like', 3934),\n",
       " ('right', 3584),\n",
       " ('going', 3562),\n",
       " ('would', 3156),\n",
       " ('really', 2982),\n",
       " ('know', 2850),\n",
       " ('im', 2496),\n",
       " ('said', 2352),\n",
       " ('thats', 2352),\n",
       " ('dont', 2338),\n",
       " ('time', 2338),\n",
       " ('back', 2334),\n",
       " ('thing', 2270),\n",
       " ('well', 2248),\n",
       " ('think', 2234),\n",
       " ('say', 2136),\n",
       " ('go', 2114),\n",
       " ('good', 2040),\n",
       " ('two', 2026),\n",
       " ('us', 1990),\n",
       " ('thousand', 1988),\n",
       " ('new', 1982),\n",
       " ('youre', 1958),\n",
       " ('see', 1934),\n",
       " ('way', 1798),\n",
       " ('actually', 1790),\n",
       " ('hundred', 1776),\n",
       " ('things', 1762),\n",
       " ('also', 1714),\n",
       " ('theyre', 1708),\n",
       " ('need', 1624),\n",
       " ('government', 1610),\n",
       " ('every', 1608),\n",
       " ('twenty', 1600),\n",
       " ('lot', 1532),\n",
       " ('states', 1524),\n",
       " ('five', 1518),\n",
       " ('three', 1502),\n",
       " ('make', 1502),\n",
       " ('percent', 1502),\n",
       " ('says', 1454),\n",
       " ('point', 1448),\n",
       " ('look', 1414),\n",
       " ('day', 1392),\n",
       " ('first', 1390),\n",
       " ('theres', 1332),\n",
       " ('number', 1270),\n",
       " ('work', 1242),\n",
       " ('great', 1210),\n",
       " ('white', 1204),\n",
       " ('united', 1138),\n",
       " ('president', 1132),\n",
       " ('many', 1122),\n",
       " ('virus', 1096),\n",
       " ('much', 1082),\n",
       " ('even', 1080),\n",
       " ('second', 1072),\n",
       " ('come', 1072),\n",
       " ('could', 1068),\n",
       " ('four', 1054),\n",
       " ('economy', 1054),\n",
       " ('job', 1038),\n",
       " ('want', 1024),\n",
       " ('health', 1018),\n",
       " ('question', 1018),\n",
       " ('take', 1012),\n",
       " ('years', 1006),\n",
       " ('home', 998),\n",
       " ('american', 998),\n",
       " ('public', 992),\n",
       " ('got', 992),\n",
       " ('business', 988),\n",
       " ('world', 986),\n",
       " ('show', 976),\n",
       " ('fact', 976),\n",
       " ('doesnt', 952),\n",
       " ('basically', 948),\n",
       " ('last', 940),\n",
       " ('country', 938),\n",
       " ('everybody', 922),\n",
       " ('better', 920),\n",
       " ('week', 920),\n",
       " ('com', 912),\n",
       " ('course', 890),\n",
       " ('case', 878),\n",
       " ('life', 878),\n",
       " ('million', 876),\n",
       " ('getting', 860),\n",
       " ('okay', 852),\n",
       " ('something', 850),\n",
       " ('slash', 848),\n",
       " ('mean', 848),\n",
       " ('may', 846),\n",
       " ('money', 840),\n",
       " ('media', 834),\n",
       " ('state', 818),\n",
       " ('hes', 816)]"
      ]
     },
     "execution_count": 102,
     "metadata": {},
     "output_type": "execute_result"
    }
   ],
   "source": [
    "ben_fdist.most_common(100)"
   ]
  },
  {
   "cell_type": "code",
   "execution_count": 103,
   "metadata": {},
   "outputs": [
    {
     "data": {
      "text/plain": [
       "[('like', 3833),\n",
       " ('know', 3504),\n",
       " ('think', 3352),\n",
       " ('people', 3300),\n",
       " ('one', 2529),\n",
       " ('get', 2439),\n",
       " ('would', 2349),\n",
       " ('im', 1814),\n",
       " ('right', 1772),\n",
       " ('really', 1458),\n",
       " ('thats', 1361),\n",
       " ('said', 1343),\n",
       " ('good', 1336),\n",
       " ('dont', 1301),\n",
       " ('go', 1169),\n",
       " ('also', 1143),\n",
       " ('say', 1133),\n",
       " ('time', 1102),\n",
       " ('us', 1087),\n",
       " ('way', 1084),\n",
       " ('two', 1069),\n",
       " ('make', 1056),\n",
       " ('got', 1056),\n",
       " ('lot', 1041),\n",
       " ('hes', 1003),\n",
       " ('going', 995),\n",
       " ('back', 966),\n",
       " ('could', 939),\n",
       " ('na', 935),\n",
       " ('youre', 906),\n",
       " ('well', 903),\n",
       " ('look', 900),\n",
       " ('see', 896),\n",
       " ('new', 887),\n",
       " ('voters', 869),\n",
       " ('need', 859),\n",
       " ('even', 844),\n",
       " ('things', 833),\n",
       " ('twenty', 820),\n",
       " ('campaign', 789),\n",
       " ('bernie', 785),\n",
       " ('thing', 778),\n",
       " ('work', 774),\n",
       " ('biden', 771),\n",
       " ('every', 754),\n",
       " ('much', 738),\n",
       " ('bob', 729),\n",
       " ('democrats', 713),\n",
       " ('big', 705),\n",
       " ('want', 697),\n",
       " ('first', 670),\n",
       " ('democratic', 665),\n",
       " ('yeah', 660),\n",
       " ('theyre', 650),\n",
       " ('job', 646),\n",
       " ('talk', 646),\n",
       " ('theres', 645),\n",
       " ('day', 634),\n",
       " ('president', 632),\n",
       " ('gon', 616),\n",
       " ('party', 585),\n",
       " ('last', 582),\n",
       " ('didnt', 581),\n",
       " ('joe', 578),\n",
       " ('yet', 576),\n",
       " ('three', 574),\n",
       " ('percent', 569),\n",
       " ('come', 567),\n",
       " ('take', 563),\n",
       " ('point', 553),\n",
       " ('states', 553),\n",
       " ('better', 546),\n",
       " ('white', 534),\n",
       " ('actually', 533),\n",
       " ('made', 519),\n",
       " ('bomb', 508),\n",
       " ('thousand', 502),\n",
       " ('mean', 501),\n",
       " ('debate', 498),\n",
       " ('something', 497),\n",
       " ('money', 494),\n",
       " ('saying', 494),\n",
       " ('hundred', 491),\n",
       " ('ever', 490),\n",
       " ('five', 489),\n",
       " ('question', 488),\n",
       " ('put', 481),\n",
       " ('ah', 480),\n",
       " ('many', 472),\n",
       " ('country', 471),\n",
       " ('care', 471),\n",
       " ('candidates', 467),\n",
       " ('vote', 460),\n",
       " ('sanders', 459),\n",
       " ('part', 456),\n",
       " ('best', 455),\n",
       " ('years', 453),\n",
       " ('may', 452),\n",
       " ('week', 445),\n",
       " ('great', 442)]"
      ]
     },
     "execution_count": 103,
     "metadata": {},
     "output_type": "execute_result"
    }
   ],
   "source": [
    "psa_fdist.most_common(100)"
   ]
  },
  {
   "cell_type": "code",
   "execution_count": 77,
   "metadata": {},
   "outputs": [
    {
     "name": "stdout",
     "output_type": "stream",
     "text": [
      "Ben Trump mentions: 100\n",
      "PSA Trump mentions: 407\n"
     ]
    }
   ],
   "source": [
    "print('Ben Trump mentions: ' + str(ben_fdist['trump']))\n",
    "print('PSA Trump mentions: ' + str(psa_fdist['trump']))"
   ]
  },
  {
   "cell_type": "code",
   "execution_count": 78,
   "metadata": {},
   "outputs": [
    {
     "name": "stdout",
     "output_type": "stream",
     "text": [
      "Ben Bernie mentions: 178\n",
      "PSA Bernie mentions: 785\n"
     ]
    }
   ],
   "source": [
    "print('Ben Bernie mentions: ' + str(ben_fdist['bernie']))\n",
    "print('PSA Bernie mentions: ' + str(psa_fdist['bernie']))"
   ]
  },
  {
   "cell_type": "code",
   "execution_count": 79,
   "metadata": {},
   "outputs": [
    {
     "name": "stdout",
     "output_type": "stream",
     "text": [
      "Ben Biden mentions: 374\n",
      "PSA Biden mentions: 771\n"
     ]
    }
   ],
   "source": [
    "print('Ben Biden mentions: ' + str(ben_fdist['biden']))\n",
    "print('PSA Biden mentions: ' + str(psa_fdist['biden']))"
   ]
  },
  {
   "cell_type": "code",
   "execution_count": 80,
   "metadata": {},
   "outputs": [
    {
     "name": "stdout",
     "output_type": "stream",
     "text": [
      "Ben Hillary mentions: 66\n",
      "PSA Hillary mentions: 71\n"
     ]
    }
   ],
   "source": [
    "print('Ben Hillary mentions: ' + str(ben_fdist['hillary']))\n",
    "print('PSA Hillary mentions: ' + str(psa_fdist['hillary']))"
   ]
  },
  {
   "cell_type": "code",
   "execution_count": 81,
   "metadata": {},
   "outputs": [
    {
     "name": "stdout",
     "output_type": "stream",
     "text": [
      "united states; com slash; dot com; new york; joe biden; white house;\n",
      "federal government; stay home; health care; andrew cuomo; back work;\n",
      "south korea; social distancing; bernie sanders; one second; little\n",
      "bit; public health; dont know; two thousand; second first\n"
     ]
    }
   ],
   "source": [
    "ben_text.collocations()"
   ]
  },
  {
   "cell_type": "code",
   "execution_count": 83,
   "metadata": {},
   "outputs": [
    {
     "name": "stdout",
     "output_type": "stream",
     "text": [
      "joe biden; dot com; donald trump; bernie sanders; com slash; health\n",
      "care; south carolina; two thousand; new hampshire; super tuesday;\n",
      "white house; mitch mcconnell; dont know; democratic party; twenty\n",
      "twenty; make sure; little bit; last night; new york; every single\n"
     ]
    }
   ],
   "source": [
    "psa_text.collocations()"
   ]
  },
  {
   "cell_type": "code",
   "execution_count": 85,
   "metadata": {},
   "outputs": [
    {
     "name": "stderr",
     "output_type": "stream",
     "text": [
      "Building ngram index...\n"
     ]
    },
    {
     "name": "stdout",
     "output_type": "stream",
     "text": [
      "policy actually got california new york times bunch corporateas\n",
      "activist underneath know someone business stance combines services\n",
      "obvious postal service shipping rates ellen editions offering\n",
      "discounted u postal service rates steps also offeru p services details\n",
      "sixty two thousand nineteen white echo nineteen ill say doctors saying\n",
      "outset theres chinese family proposed help go cases diagnosed craw\n",
      "virus elderly accept back nursing homes quick note son andrew cuomo\n",
      "going possible fast possible sends woman coming us till obvious answer\n",
      "increase allegations dishes like obesity diabetes figure yeah\n",
      "determine hisself end got within healthy population hot healthy\n",
      "population united states thing\n"
     ]
    },
    {
     "data": {
      "text/plain": [
       "'policy actually got california new york times bunch corporateas\\nactivist underneath know someone business stance combines services\\nobvious postal service shipping rates ellen editions offering\\ndiscounted u postal service rates steps also offeru p services details\\nsixty two thousand nineteen white echo nineteen ill say doctors saying\\noutset theres chinese family proposed help go cases diagnosed craw\\nvirus elderly accept back nursing homes quick note son andrew cuomo\\ngoing possible fast possible sends woman coming us till obvious answer\\nincrease allegations dishes like obesity diabetes figure yeah\\ndetermine hisself end got within healthy population hot healthy\\npopulation united states thing'"
      ]
     },
     "execution_count": 85,
     "metadata": {},
     "output_type": "execute_result"
    }
   ],
   "source": [
    "ben_text.generate()"
   ]
  },
  {
   "cell_type": "code",
   "execution_count": 86,
   "metadata": {},
   "outputs": [
    {
     "name": "stderr",
     "output_type": "stream",
     "text": [
      "Building ngram index...\n"
     ]
    },
    {
     "name": "stdout",
     "output_type": "stream",
     "text": [
      "politics also future ability respond chris think win election attend\n",
      "blake weve talked different sent candidates go one think arching point\n",
      "think lets look would furlough ill since ukraine matter look something\n",
      "get sick good work think read summer worry long mean think joe biden\n",
      "doesnt even see feelings among would restore stability elect new club\n",
      "arent dont im going way saved hundreds thousands rate immunity sam\n",
      "jewish ana california im going state knowing like easy win either way\n",
      "candidates biden bernie sanders unbelieving bernie sanders youre\n",
      "making apostles one general yams ago attorney debate issues record\n",
      "theyre gon na\n"
     ]
    },
    {
     "data": {
      "text/plain": [
       "'politics also future ability respond chris think win election attend\\nblake weve talked different sent candidates go one think arching point\\nthink lets look would furlough ill since ukraine matter look something\\nget sick good work think read summer worry long mean think joe biden\\ndoesnt even see feelings among would restore stability elect new club\\narent dont im going way saved hundreds thousands rate immunity sam\\njewish ana california im going state knowing like easy win either way\\ncandidates biden bernie sanders unbelieving bernie sanders youre\\nmaking apostles one general yams ago attorney debate issues record\\ntheyre gon na'"
      ]
     },
     "execution_count": 86,
     "metadata": {},
     "output_type": "execute_result"
    }
   ],
   "source": [
    "psa_text.generate()"
   ]
  },
  {
   "cell_type": "code",
   "execution_count": 117,
   "metadata": {},
   "outputs": [
    {
     "name": "stdout",
     "output_type": "stream",
     "text": [
      "rights man books acted might dealt rapist platform campaign exotic\n",
      "plumbers ely\n",
      "None\n"
     ]
    }
   ],
   "source": [
    "print(ben_text.similar('biden'))"
   ]
  },
  {
   "cell_type": "code",
   "execution_count": 104,
   "metadata": {},
   "outputs": [
    {
     "data": {
      "image/png": "[encoded data removed]",
      "text/plain": [
       "<Figure size 432x288 with 1 Axes>"
      ]
     },
     "metadata": {
      "needs_background": "light"
     },
     "output_type": "display_data"
    }
   ],
   "source": [
    "import matplotlib\n",
    "\n",
    "ben_text.dispersion_plot(['virus'])"
   ]
  },
  {
   "cell_type": "code",
   "execution_count": null,
   "metadata": {},
   "outputs": [],
   "source": []
  }
 ],
 "metadata": {
  "kernelspec": {
   "display_name": "Python 3",
   "language": "python",
   "name": "python3"
  },
  "language_info": {
   "codemirror_mode": {
    "name": "ipython",
    "version": 3
   },
   "file_extension": ".py",
   "mimetype": "text/x-python",
   "name": "python",
   "nbconvert_exporter": "python",
   "pygments_lexer": "ipython3",
   "version": "3.7.7"
  }
 },
 "nbformat": 4,
 "nbformat_minor": 4
}
